{
 "cells": [
  {
   "cell_type": "markdown",
   "metadata": {},
   "source": [
    "# Fastbook Chapter 2 Questionnaire Answers\n",
    "> Chapter 2 Questionnaire Answers\n",
    "- description:\"Fastbook Chapter 2 Questionnaire Answers\"\n",
    "- toc: true \n",
    "- hidden: true\n",
    "- categories: [fastai]\n",
    "- badges: false\n",
    "- search_exclude: true"
   ]
  },
  {
   "cell_type": "code",
   "execution_count": 2,
   "metadata": {},
   "outputs": [],
   "source": [
    "#hide\n",
    "from utils import *\n",
    "from fastai2.vision.widgets import *"
   ]
  },
  {
   "cell_type": "markdown",
   "metadata": {},
   "source": [
    "## Questionnaire"
   ]
  },
  {
   "cell_type": "markdown",
   "metadata": {},
   "source": [
    "See [Lesson 2](https://github.com/fastai/fastbook/blob/master/clean/02_production.ipynb)"
   ]
  },
  {
   "cell_type": "markdown",
   "metadata": {},
   "source": [
    "1. Provide an example of where the bear classification model might work poorly in production, due to structural or style differences in the training data.\n",
    "    - **when data used to train the model is very different from data used in production for inferencing.**\n",
    "\n",
    "1. Where do text models currently have a major deficiency?\n",
    "    - **in generating correct responses to queries.**\n",
    "    \n",
    "1. What are possible negative societal implications of text generation models?\n",
    "    - **automating disinformation campaigns using DL text models to generate simulated human responses.**\n",
    "1. In situations where a model might make mistakes, and those mistakes could be harmful, what is a good alternative to automating a process?\n",
    "    - **allow humans to oversee predictions made by ML models**\n",
    "    \n",
    "1. What kind of tabular data is deep learning particularly good at?\n",
    "    - **data with high cardinality categorical columns**\n",
    "    \n",
    "1. What's a key downside of directly using a deep learning model for recommendation systems?\n",
    "    - **models that predict what items users would already buy or watch even if no recommendation was made instead of recommending items that a user might buy/watch but if not for the recommendation.**\n",
    "1. What are the steps of the Drivetrain Approach?\n",
    "\t- **Determine objectives**\n",
    "\t- **Determine levers (inputs that can be controlled)**\n",
    "\t- **Determine data that can be collected to control the levers**\n",
    "\t- **Build the models**\n",
    "\n",
    "1. How do the steps of the Drivetrain Approach map to a recommendation system?\n",
    "    - **Objective:** create recommendations for items that users might like but otherwise would not be have if not for the recommendation and trigger new sales\n",
    "\t- **Levers:** ranking of the recommendation\n",
    "\t- **Data:** randomized experiments on a wide range of recommendations to a wide variety of customers\n",
    "\t- **Models:** \n",
    "\t\t- 2 Models for purchase probabilities conditional on seeing or not seeing a recommendation\n",
    "            1. model - for purchases given a recommendation\n",
    "            2. model - for purchases not given a recommendation\n",
    "\t\t- utility function for the difference in probabilities \n",
    "            * low \n",
    "                - when model recommends items which a customer is familiar with and rejected (both components low)\n",
    "                - when the model recommends items which a customer would have bought even with the recommendation (both high)\n",
    "\t\t\t* high \n",
    "                - when the model recommends an item that a customer would buy if given a recommendation (large value) but low when the model does not recommend that item\n",
    "\n",
    "1. Create an image recognition model using data you curate, and deploy it on the web.\n",
    "    - **TODO**\n",
    "    \n",
    "1. What is `DataLoaders`?\n",
    "    - **an object that specifies the way to feed data to a model**\n",
    "    \n",
    "1. What four things do we need to tell fastai to create `DataLoaders`?\n",
    "    - **what kinds of data we are working with**\n",
    "    - **how to get the items**\n",
    "    - **how to label items**\n",
    "    - **how to split the validation set from the training set**\n",
    "    \n",
    "1. What does the `splitter` parameter to `DataBlock` do?\n",
    "    - **how to split the validation set from the training set**\n",
    "    \n",
    "1. How do we ensure a random split always gives the same validation set?\n",
    "    - **by setting the random seed to a specific number ensures that the same pseudo random sequence is used each time to split the validation set from the training set**\n",
    "    \n",
    "1. What letters are often used to signify the independent and dependent variables?\n",
    "    - **x for dependent, y for independent**\n",
    "    \n",
    "1. What's the difference between the crop, pad, and squish resize approaches? When might you choose one over the others?\n",
    "    - **crop - used by default - use full height or width and crop to make it square**\n",
    "    - **pad - add zeros to smaller dimension to make it square**\n",
    "    - **squish - scale bigger dimension to fit into square**\n",
    "    - **squish is used when it is important to include all the image data but the model can tolerate the distortion, crop is useful when partial crops of the image can still be useful in predicting the label, pad is useful when no distortion can be allowed but at the expense of having to pad the images which might decrease the model's performance.** \n",
    "\n",
    "1. What is data augmentation? Why is it needed?\n",
    "    - **alter the input slightly each time data goes through an epoch**\n",
    "\t- **improves model by reducing overfitting (not seeing the same data for each epoch due to distortions added by data augmentation)**\n",
    "\n",
    "1. What is the difference between `item_tfms` and `batch_tfms`?\n",
    "    - **item_tfms - transforms applied once on each sample while reading the data.**\n",
    "    - **batch_tfms - applied to entire batch - usually using GPU so its fast.**\n",
    "    \n",
    "1. What is a confusion matrix?\n",
    "    - **a table plot that shows how many the model got right and wrong for each label category**\n",
    "\n",
    "1. What does `export` save?\n",
    "    - **an inference model - a model that can be used for making predictions**\n",
    "    \n",
    "1. What is it called when we use a model for getting predictions, instead of training?\n",
    "    - **inferencing**\n",
    "    \n",
    "1. What are IPython widgets?\n",
    "    - **components that can add interactive functionality to a jupyter notebook**\n",
    "    \n",
    "1. When might you want to use CPU for deployment? When might GPU be better?\n",
    "    - **CPU is easier to deploy, when no training is needed**\n",
    "    - **GPU is faster when making lots of parallel inferences to run through the model**\n",
    "\n",
    "1. What are the downsides of deploying your app to a server, instead of to a client (or edge) device such as a phone or PC?\n",
    "    - **slower response due to roundtrip time, more centralized resources required**\n",
    "    \n",
    "1. What are three examples of problems that could occur when rolling out a bear warning system in practice?\n",
    "    - **data used in training is not the same data used in production**\n",
    "\t\t* video not images\n",
    "\t\t* night time \n",
    "\t\t* video camera feed vs internet pictures \n",
    "    - **slow response time**\n",
    "\n",
    "1. What is \"out-of-domain data\"?\n",
    "\t- **data used in production is not part of training data**\n",
    "    \n",
    "1. What is \"domain shift\"?\n",
    "    - **over time, data encountered in production is not same as used in training**\n",
    "    \n",
    "1. What are the three steps in the deployment process?\n",
    "\t- **manual oversight**\n",
    "\t- **limited scope deployment**\n",
    "\t- **gradual expansion**\n"
   ]
  },
  {
   "cell_type": "markdown",
   "metadata": {},
   "source": [
    "### Further Research"
   ]
  },
  {
   "cell_type": "markdown",
   "metadata": {},
   "source": [
    "1. Consider how the Drivetrain Approach maps to a project or problem you're interested in.\n",
    "1. When might it be best to avoid certain types of data augmentation?\n",
    "1. For a project you're interested in applying deep learning to, consider the thought experiment \"What would happen if it went really, really well?\"\n",
    "1. Start a blog, and write your first blog post. For instance, write about what you think deep learning might be useful for in a domain you're interested in."
   ]
  }
 ],
 "metadata": {
  "jupytext": {
   "split_at_heading": true
  },
  "kernelspec": {
   "display_name": "Python 3",
   "language": "python",
   "name": "python3"
  },
  "language_info": {
   "codemirror_mode": {
    "name": "ipython",
    "version": 3
   },
   "file_extension": ".py",
   "mimetype": "text/x-python",
   "name": "python",
   "nbconvert_exporter": "python",
   "pygments_lexer": "ipython3",
   "version": "3.7.7"
  },
  "varInspector": {
   "cols": {
    "lenName": 16,
    "lenType": 16,
    "lenVar": 40
   },
   "kernels_config": {
    "python": {
     "delete_cmd_postfix": "",
     "delete_cmd_prefix": "del ",
     "library": "var_list.py",
     "varRefreshCmd": "print(var_dic_list())"
    },
    "r": {
     "delete_cmd_postfix": ") ",
     "delete_cmd_prefix": "rm(",
     "library": "var_list.r",
     "varRefreshCmd": "cat(var_dic_list()) "
    }
   },
   "types_to_exclude": [
    "module",
    "function",
    "builtin_function_or_method",
    "instance",
    "_Feature"
   ],
   "window_display": false
  }
 },
 "nbformat": 4,
 "nbformat_minor": 4
}
