{
 "cells": [
  {
   "cell_type": "markdown",
   "metadata": {},
   "source": [
    "# Fastbook Chapter 1 Questionnaire Answers\n",
    "> Chapter 1 Questionnaire Answers\n",
    "- description:\"Fastbook Chapter 1 Questionnaire Answers\"\n",
    "- toc: true \n",
    "- hidden: true\n",
    "- categories: [fastai]\n",
    "- badges: false\n",
    "- search_exclude: true"
   ]
  },
  {
   "cell_type": "code",
   "execution_count": 7,
   "metadata": {
    "code_folding": []
   },
   "outputs": [],
   "source": [
    "#hide\n",
    "from utils import *"
   ]
  },
  {
   "cell_type": "markdown",
   "metadata": {},
   "source": [
    "## Questionnaire"
   ]
  },
  {
   "cell_type": "markdown",
   "metadata": {},
   "source": [
    "See [Lesson 1](https://github.com/fastai/fastbook/blob/master/clean/01_intro.ipynb)"
   ]
  },
  {
   "cell_type": "markdown",
   "metadata": {},
   "source": [
    "1. Do you need these for deep learning?\n",
    "\n",
    "   - Lots of math T / F\n",
    "       - **False - Only linear algebra + matrix math + some statistics. but it helps to have some math background to understand the underlying principles. SGD itself just relies on addition/multiplication.**\n",
    "\n",
    "   - Lots of data T / F\n",
    "       - **False - With transfer learning, you can reduce data needed; some can do with just a little data, but it depends - some problems may require more data than others. Creativity around the problem of sourcing data is key to working with limited data.**\n",
    "\n",
    "   - Lots of expensive computers T / F\n",
    "       - **False - Again, with transfer learning, you can reduce computing requirements; aside from building your own inexpensive DL rig with NVIDIA GPUs similar to gaming rigs, you can also use cloud-based solutions (both free and paid).**\n",
    "\n",
    "   - A PhD T / F\n",
    "       - **False - practitioners can come from different backgrounds. Lots of major DL contributors are not necessarily PhDs; for example - Joseph Redmon, aka pjreddie, author of YOLO detector, a well regarded object detection library was a CS Major with no PhD.**\n",
    " \n",
    "1. Name five areas where deep learning is now the best in the world.\n",
    "\n",
    "   - **Computer Vision - image classification, image segmentation, satellite and drone imagery interpretation, facial recognition, image captioning, self driving**\n",
    "   - **Medical Imaging and Diagnosis - radiology - cancer detection, diabetic retinopathy, anomalies in radiology images, CT scans, x-ray, MRI**\n",
    "   - **Text Processing - language translation, speech to text, answering questions, summarizing docs**\n",
    "   - **Recommendation Systems - Netflix, Youtube, Amazon**\n",
    "   - **Games - Alphago, Alphastar**\n",
    "\n",
    "1. What was the name of the first device that was based on the principle of the artificial neuron?\n",
    "\n",
    "   - **Mark 1 Perceptron**\n",
    "\n",
    "1. Based on the book of the same name, what are the requirements for \"Parallel Distributed Processing\"?\n",
    "\n",
    "   - **A set of processing units (nodes/neurons - param weight)**\n",
    "   - **A state of activation (activation - computation of weight + input)**\n",
    "   - **An output function for each unit (linear function + activation function e.g. ReLU)**\n",
    "   - **A pattern of connectivity among units (layers of nodes using outputs from prev layer as input to next layer)**\n",
    "   - **A propagation rule for propagating patterns of activities through the network of connectivities (forward propagation from layer to layer) **\n",
    "   - **An activation rule for combining the inputs impinging on a unit with the current state of activation to produce an output for that unit (combining activations from connected nodes)**\n",
    "   - **An learning rule where the patterns of connectivity are modified by experience (back propagation - feedback error to update param - weights)**\n",
    "   - **An environment for the machine to operate on (cycle of input+weights-> propagate-> output - performance - update weights)**\n",
    "\n",
    "1. What were the two theoretical misunderstandings that held back the field of neural networks?\n",
    "\n",
    "   - **that neural networks could not compute even a simple XOR function (1 layer networks can't, but it can be overcome by adding more layers) **\n",
    "   - **that only 1 extra layer is needed to theoretically compute any function (Two layer neural networks - while theoretically could approximate any function, multiple layers were better)**\n",
    "  \n",
    "1. What is a GPU?\n",
    "\n",
    "   - **Graphical Processing Unit - a processor for displaying graphics, repurposed for parallelized operations needed for machine learning**\n",
    "\n",
    "1. Open a notebook and execute a cell containing: `1+1`. What happens?\n",
    "\n",
    "   - **print 2 in the output**\n",
    "\n",
    "1. Follow through each cell of the stripped version of the notebook for this chapter. Before executing each cell, guess what will happen.\n",
    "\n",
    "   - **done**\n",
    "\n",
    "1. Complete the Jupyter Notebook online appendix.\n",
    "\n",
    "   - **done** \n",
    "\n",
    "1. Why is it hard to use a traditional computer program to recognize images in a photo?\n",
    "\n",
    "   - **it is very hard to generalize a sequence of steps to instruct a computer to recognize an image**\n",
    "      \n",
    "1. What did Samuel mean by \"Weight Assignment\"?\n",
    "\n",
    "   - **to choose the values to update the weights,setting the values of the weights of the model that will produce the correct results given the inputs**\n",
    "\n",
    "1. What term do we normally use in deep learning for what Samuel called \"Weights\"?\n",
    "\n",
    "   - **parameters**\n",
    "\n",
    "1. Draw a picture that summarizes Arthur Samuel's view of a machine learning model\n",
    "\n",
    "   - **inputs + weights->model->outputs + labels -> performance -(update)-> weights**{% fn 1 %}\n",
    "\n",
    "1. Why is it hard to understand why a deep learning model makes a particular prediction?\n",
    "\n",
    "   - **because of the huge number of parameters that make up a model, its very hard to attribute any one particular factor that lead a model to make a prediction and cannot always be visualized or explained, unlike an algorithm or a decision tree.**\n",
    "\n",
    "1. What is the name of the theorem that a neural network can solve any mathematical problem to any level of accuracy?\n",
    "\n",
    "   - **Universal Approximation theorem**\n",
    "\n",
    "1. What do you need in order to train a model?\n",
    "\n",
    "   - **labelled input data**\n",
    "   - **predictions which are output by model**\n",
    "   - **loss function - compares prediction (aka predicted labels) vs actual label**\n",
    "   - **a way to update the model based on the loss function (aka backprop, aka SGD)**\n",
    "\n",
    "1. How could a feedback loop impact the rollout of a predictive policing model?\n",
    "\n",
    "   - **when it start optimizing towards the proxy measurement instead of the real goal, i.e. it starts optimizing arrests in lieu of reducing crime**\n",
    "   - **bias in data could lead to biased models which make biased predictions**\n",
    "   - **biased predictions when applied to policing environment results in generating more biased data**\n",
    "   - **the updated biased data then is used to update the already biased model.**\n",
    "   - **the model seems to become \"more accurate\" but it has nothing to do with effectivity with the goal of reducing crime.**\n",
    "\n",
    "1. Do we always have to use 224x224 pixel images with the cat recognition model?\n",
    "\n",
    "   - **no, its because we use models that have been trained traditionally on 224x224 images**\n",
    "\n",
    "1. What is the difference between classification and regression?\n",
    "\n",
    "   - **classification - where the predicted output is a limited set of categories vs regression where the predicted output is a continuous set of values**\n",
    "\n",
    "1. What is a validation set? What is a test set? Why do we need them?\n",
    "\n",
    "   - **validation set is a set of labelled data set aside from the data used to train a model in order to predict the performance of the model when deployed to production. As the model is tweaked in order to improve its performance vis-a-vis the validation set, the validation set becomes less and less a good predictor of its eventual production performance. As a guard against this, another set of data, the test set, is also set aside, but is never used during the tweaking process. Its function is only to provide a final predictor (after tweaking) of the model's production performance.**\n",
    "\n",
    "1. What will fastai do if you don't provide a validation set?\n",
    "\n",
    "   - **fastai will create a random split of the data provided and set aside 20 percent as the validation set**\n",
    "\n",
    "1. Can we always use a random sample for a validation set? Why or why not?\n",
    "\n",
    "   - **not always. if the data between the validation and training sets are correlated in some way that is not the case with the input used during production, then, the validation set is not representative of the actual production data and may provide misleading metrics as to its eventual performance.**\n",
    "\n",
    "1. What is overfitting? Provide an example.\n",
    "\n",
    "   - **overfitting is when the model has optimized itself (decreasing loss against the training data) to a level to match the training data at the expense of generality, as indicated by its worsening performance against the validation set. When a model \"learns\" the training data to a degree such that it becomes optimized only for that data that is used during its training and will do worse on data that it has not \"seen\" (e.g. validation or test sets). For example, a face recognition model that can recognize faces only on the faces used for its training, but cannot recognize faces not used during its training.** \n",
    "\n",
    "1. What is a metric? How does it differ to \"loss\"?\n",
    "\n",
    "   - **a metric is a problem specific measurement of the model's performance -- it is the performance that matters from the perspective of a model's task goal. A loss is a measurement of performance used to adjust the parameters during its training.**\n",
    "\n",
    "1. How can pretrained models help?\n",
    "\n",
    "   - **pretrained models reduce the amount of computing resources and amount of data needed to build useful models by providing a set of weights that are better than random. By using the pre-existing parameters of the lower layers (which reflect commonalities in the different ML tasks which allow the pretrained models to be re-used), only the parameters head and upper layers need to be adjusted in order to achieve useful performance for the particular task, while the lower layer parameters need no or very fine adjustments.**\n",
    "\n",
    "1. What is the \"head\" of a model?\n",
    "\n",
    "   - **the head of the model are the last few layers of the models that are specific to the task goal of the model**\n",
    "\n",
    "1. What kinds of features do the early layers of a CNN find? How about the later layers?\n",
    "\n",
    "   - **the early layers find the simple generic features of all images, while the later layers combine these generic features into more complex specific features for a particular task.**\n",
    "\n",
    "1. Are image models only useful for photos?\n",
    "\n",
    "   - **any set of data that can have some meaningful spatial relationships can be converted into images that can reuse image models - examples are audio, mouse movements, etc.** \n",
    "\n",
    "1. What is an \"architecture\"?\n",
    "\n",
    "   - **an architecture is the pattern of interconnections between layers of neurons in a neural network**\n",
    "\n",
    "1. What is segmentation?\n",
    "\n",
    "   - **segmentation is an image task of assigning a category for each pixel in an image**\n",
    "\n",
    "1. What is `y_range` used for? When do we need it?\n",
    "\n",
    "   - **the `y_range` is used to specify the range of possible continuous values for the output. It is used during regression tasks** \n",
    "\n",
    "1. What are \"hyperparameters\"?\n",
    "\n",
    "   - **the hyperparameters are the values that are adjusted during model training in order to build a useful model as quickly as possible**\n",
    "   \n",
    "1. What's the best way to avoid failures when using AI in an organization?\n",
    "\n",
    "   - **create a validation or test set in order to evaluate the performance of any proposed AI solution in order to have a good prediction of the actual deployed model's performance.By setting aside data for an independent evaluation of the model developed for a particular task separate from the data provided for building the model, they can really develop a good sense   of the future performance of the model in the \"real world\", separate from any evaluation by the provider of the model.**\n"
   ]
  },
  {
   "cell_type": "markdown",
   "metadata": {},
   "source": [
    "### Further research"
   ]
  },
  {
   "cell_type": "markdown",
   "metadata": {},
   "source": [
    "Each chapter also has a \"further research\" with questions that aren't fully answered in the text, or include more advanced assignments. Answers to these questions aren't on the book website--you'll need to do your own research!"
   ]
  },
  {
   "cell_type": "markdown",
   "metadata": {},
   "source": [
    "1. Why is a GPU useful for deep learning? How is a CPU different, and why is it less effective for deep learning?\n",
    "    - **A GPU can massively parallelize mathematical operations such as matrix multiplication needed to perform gradient descent, enabling deep networks to run adequately whereas a CPU would bottleneck on these matrix operations, slowing it down.**\n",
    "1. Try to think of three areas where feedback loops might impact use of machine learning. See if you can find documented examples of that happening in practice.\n",
    "    - **Youtube recommendations that optimize user engagement do become addictive and can create filter bubbles that while engaging, can radicalize the user's world view because the recommendations tend to reinforce biases which are also the most likely to keep the user engaged. Same thing with facebook feed recommendations. A third example would be the predictive policing model COMPAS which has now been [criticized to be no better than random people at predicting crime](https://www.theatlantic.com/technology/archive/2018/01/equivant-compas-algorithm/550646/).** "
   ]
  },
  {
   "cell_type": "markdown",
   "metadata": {},
   "source": [
    "---\n",
    "## Footnotes\n",
    "\n",
    "{{ \"Samuel&#39;s view of a machine learning mode \" | fndetail: 1 }}"
   ]
  },
  {
   "cell_type": "code",
   "execution_count": 14,
   "metadata": {
    "code_folding": []
   },
   "outputs": [
    {
     "data": {
      "image/svg+xml": [
       "<?xml version=\"1.0\" encoding=\"UTF-8\" standalone=\"no\"?>\n",
       "<!DOCTYPE svg PUBLIC \"-//W3C//DTD SVG 1.1//EN\"\n",
       " \"http://www.w3.org/Graphics/SVG/1.1/DTD/svg11.dtd\">\n",
       "<!-- Generated by graphviz version 2.43.0 (0)\n",
       " -->\n",
       "<!-- Title: G Pages: 1 -->\n",
       "<svg width=\"477pt\" height=\"144pt\"\n",
       " viewBox=\"0.00 0.00 476.85 144.00\" xmlns=\"http://www.w3.org/2000/svg\" xmlns:xlink=\"http://www.w3.org/1999/xlink\">\n",
       "<g id=\"graph0\" class=\"graph\" transform=\"scale(1 1) rotate(0) translate(4 140)\">\n",
       "<title>G</title>\n",
       "<polygon fill=\"white\" stroke=\"transparent\" points=\"-4,4 -4,-140 472.85,-140 472.85,4 -4,4\"/>\n",
       "<!-- weights -->\n",
       "<g id=\"node1\" class=\"node\">\n",
       "<title>weights</title>\n",
       "<ellipse fill=\"none\" stroke=\"black\" cx=\"37.62\" cy=\"-118\" rx=\"37.74\" ry=\"18\"/>\n",
       "<text text-anchor=\"middle\" x=\"37.62\" y=\"-113.8\" font-family=\"Times,serif\" font-size=\"14.00\">weights</text>\n",
       "</g>\n",
       "<!-- model -->\n",
       "<g id=\"node2\" class=\"node\">\n",
       "<title>model</title>\n",
       "<ellipse fill=\"none\" stroke=\"black\" cx=\"144.45\" cy=\"-72\" rx=\"32.42\" ry=\"18\"/>\n",
       "<text text-anchor=\"middle\" x=\"144.45\" y=\"-67.8\" font-family=\"Times,serif\" font-size=\"14.00\">model</text>\n",
       "</g>\n",
       "<!-- weights&#45;&gt;model -->\n",
       "<g id=\"edge1\" class=\"edge\">\n",
       "<title>weights&#45;&gt;model</title>\n",
       "<path fill=\"none\" stroke=\"black\" d=\"M65.89,-106.03C79.1,-100.24 95.1,-93.22 109.13,-87.06\"/>\n",
       "<polygon fill=\"black\" stroke=\"black\" points=\"110.72,-90.18 118.47,-82.96 107.9,-83.77 110.72,-90.18\"/>\n",
       "</g>\n",
       "<!-- outputs -->\n",
       "<g id=\"node3\" class=\"node\">\n",
       "<title>outputs</title>\n",
       "<ellipse fill=\"none\" stroke=\"black\" cx=\"286.12\" cy=\"-72\" rx=\"36.3\" ry=\"18\"/>\n",
       "<text text-anchor=\"middle\" x=\"286.12\" y=\"-67.8\" font-family=\"Times,serif\" font-size=\"14.00\">outputs</text>\n",
       "</g>\n",
       "<!-- model&#45;&gt;outputs -->\n",
       "<g id=\"edge2\" class=\"edge\">\n",
       "<title>model&#45;&gt;outputs</title>\n",
       "<path fill=\"none\" stroke=\"black\" d=\"M176.79,-72C195.37,-72 219.23,-72 239.83,-72\"/>\n",
       "<polygon fill=\"black\" stroke=\"black\" points=\"239.95,-75.5 249.95,-72 239.95,-68.5 239.95,-75.5\"/>\n",
       "</g>\n",
       "<!-- performance -->\n",
       "<g id=\"node4\" class=\"node\">\n",
       "<title>performance</title>\n",
       "<ellipse fill=\"none\" stroke=\"black\" cx=\"414.06\" cy=\"-72\" rx=\"54.57\" ry=\"18\"/>\n",
       "<text text-anchor=\"middle\" x=\"414.06\" y=\"-67.8\" font-family=\"Times,serif\" font-size=\"14.00\">performance</text>\n",
       "</g>\n",
       "<!-- outputs&#45;&gt;performance -->\n",
       "<g id=\"edge3\" class=\"edge\">\n",
       "<title>outputs&#45;&gt;performance</title>\n",
       "<path fill=\"none\" stroke=\"black\" d=\"M322.54,-72C330.78,-72 339.82,-72 348.88,-72\"/>\n",
       "<polygon fill=\"black\" stroke=\"black\" points=\"349.09,-75.5 359.09,-72 349.09,-68.5 349.09,-75.5\"/>\n",
       "</g>\n",
       "<!-- performance&#45;&gt;weights -->\n",
       "<g id=\"edge4\" class=\"edge\">\n",
       "<title>performance&#45;&gt;weights</title>\n",
       "<path fill=\"none\" stroke=\"black\" d=\"M375.97,-85.06C359.69,-90.26 340.24,-95.77 322.27,-99 239.96,-113.81 142.33,-117.34 85.73,-118.03\"/>\n",
       "<polygon fill=\"black\" stroke=\"black\" points=\"85.62,-114.53 75.65,-118.13 85.69,-121.53 85.62,-114.53\"/>\n",
       "<text text-anchor=\"middle\" x=\"213.32\" y=\"-115.8\" font-family=\"Times,serif\" font-size=\"14.00\">update</text>\n",
       "</g>\n",
       "<!-- inputs -->\n",
       "<g id=\"node5\" class=\"node\">\n",
       "<title>inputs</title>\n",
       "<ellipse fill=\"none\" stroke=\"black\" cx=\"37.62\" cy=\"-64\" rx=\"31.96\" ry=\"18\"/>\n",
       "<text text-anchor=\"middle\" x=\"37.62\" y=\"-59.8\" font-family=\"Times,serif\" font-size=\"14.00\">inputs</text>\n",
       "</g>\n",
       "<!-- inputs&#45;&gt;model -->\n",
       "<g id=\"edge5\" class=\"edge\">\n",
       "<title>inputs&#45;&gt;model</title>\n",
       "<path fill=\"none\" stroke=\"black\" d=\"M69.22,-66.34C79.48,-67.12 91.09,-68 102.04,-68.84\"/>\n",
       "<polygon fill=\"black\" stroke=\"black\" points=\"102.02,-72.35 112.26,-69.62 102.56,-65.37 102.02,-72.35\"/>\n",
       "</g>\n",
       "<!-- labels -->\n",
       "<g id=\"node6\" class=\"node\">\n",
       "<title>labels</title>\n",
       "<ellipse fill=\"none\" stroke=\"black\" cx=\"286.12\" cy=\"-18\" rx=\"30.97\" ry=\"18\"/>\n",
       "<text text-anchor=\"middle\" x=\"286.12\" y=\"-13.8\" font-family=\"Times,serif\" font-size=\"14.00\">labels</text>\n",
       "</g>\n",
       "<!-- labels&#45;&gt;performance -->\n",
       "<g id=\"edge6\" class=\"edge\">\n",
       "<title>labels&#45;&gt;performance</title>\n",
       "<path fill=\"none\" stroke=\"black\" d=\"M311.41,-28.41C328.11,-35.58 350.75,-45.28 370.43,-53.72\"/>\n",
       "<polygon fill=\"black\" stroke=\"black\" points=\"369.24,-57.02 379.81,-57.74 372,-50.58 369.24,-57.02\"/>\n",
       "</g>\n",
       "</g>\n",
       "</svg>\n"
      ],
      "text/plain": [
       "<graphviz.files.Source at 0x12f711a50>"
      ]
     },
     "execution_count": 14,
     "metadata": {},
     "output_type": "execute_result"
    }
   ],
   "source": [
    "#hide_input\n",
    "output = gv('''weights->model->outputs->performance;performance->weights[label=\"update\"];inputs->model;labels->performance''')\n",
    "output"
   ]
  },
  {
   "cell_type": "code",
   "execution_count": null,
   "metadata": {},
   "outputs": [],
   "source": []
  }
 ],
 "metadata": {
  "jupytext": {
   "split_at_heading": true
  },
  "kernelspec": {
   "display_name": "Python 3",
   "language": "python",
   "name": "python3"
  },
  "language_info": {
   "codemirror_mode": {
    "name": "ipython",
    "version": 3
   },
   "file_extension": ".py",
   "mimetype": "text/x-python",
   "name": "python",
   "nbconvert_exporter": "python",
   "pygments_lexer": "ipython3",
   "version": "3.7.7"
  },
  "varInspector": {
   "cols": {
    "lenName": 16,
    "lenType": 16,
    "lenVar": 40
   },
   "kernels_config": {
    "python": {
     "delete_cmd_postfix": "",
     "delete_cmd_prefix": "del ",
     "library": "var_list.py",
     "varRefreshCmd": "print(var_dic_list())"
    },
    "r": {
     "delete_cmd_postfix": ") ",
     "delete_cmd_prefix": "rm(",
     "library": "var_list.r",
     "varRefreshCmd": "cat(var_dic_list()) "
    }
   },
   "types_to_exclude": [
    "module",
    "function",
    "builtin_function_or_method",
    "instance",
    "_Feature"
   ],
   "window_display": false
  }
 },
 "nbformat": 4,
 "nbformat_minor": 4
}
